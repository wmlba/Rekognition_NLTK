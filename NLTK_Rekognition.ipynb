{
 "cells": [
  {
   "cell_type": "markdown",
   "metadata": {},
   "source": [
    "## Detect any text in the image using Amazon Rekognition"
   ]
  },
  {
   "cell_type": "code",
   "execution_count": null,
   "metadata": {},
   "outputs": [],
   "source": [
    "import boto3\n",
    "\n",
    "if __name__ == \"__main__\":\n",
    "\n",
    "    client=boto3.client('rekognition')\n",
    "    imageFile = './IMG_0151.jpeg'\n",
    "    with open(imageFile, 'rb') as image:\n",
    "        response = client.detect_text(Image={'Bytes': image.read()})\n",
    "    \n",
    "    \n",
    "    textDetections=response['TextDetections']\n",
    "    print ('Detected text')\n",
    "    lines = []\n",
    "    for text in textDetections:\n",
    "        if text['Type'] == 'LINE':\n",
    "            lines.append(text['DetectedText'])\n",
    "    print(lines)"
   ]
  },
  {
   "cell_type": "markdown",
   "metadata": {},
   "source": [
    "## Join the list of Strings"
   ]
  },
  {
   "cell_type": "code",
   "execution_count": null,
   "metadata": {},
   "outputs": [],
   "source": [
    "extracted_sen = ' '.join(lines).title()\n",
    "extracted_sen"
   ]
  },
  {
   "cell_type": "markdown",
   "metadata": {},
   "source": [
    "## Use the Standford NLTK library to detect entities where it is a person\n",
    "#### You need to download the english model and the stanford NER Jar."
   ]
  },
  {
   "cell_type": "code",
   "execution_count": null,
   "metadata": {},
   "outputs": [],
   "source": [
    "import nltk\n",
    "import nltk.tag.stanford as st\n",
    "\n",
    "st = st.StanfordNERTagger('/home/ec2-user/SageMaker/english.all.3class.distsim.crf.ser.gz','/home/ec2-user/SageMaker/stanford-ner.jar',encoding='utf8')\n",
    "text = extracted_sen\n",
    "for sent in nltk.sent_tokenize(text):\n",
    "    tokens = nltk.tokenize.word_tokenize(sent)\n",
    "    tags = st.tag(tokens)\n",
    "    for tag in tags:\n",
    "        if tag[1]=='PERSON': print(tag)    \n",
    "            "
   ]
  },
  {
   "cell_type": "markdown",
   "metadata": {},
   "source": [
    "## Custom names\n",
    "#### Documentation for training a custom model with custom names\n",
    "#### https://blog.sicara.com/train-ner-model-with-nltk-stanford-tagger-english-french-german-6d90573a9486?gi=4d00cbec9879"
   ]
  },
  {
   "cell_type": "code",
   "execution_count": null,
   "metadata": {},
   "outputs": [],
   "source": [
    "import nltk\n",
    "#from nltk.tag.stanford import NERTagger\n",
    "import nltk.tag.stanford as st\n",
    "st = st.StanfordNERTagger('/home/ec2-user/SageMaker/custom_names_model.ser.gz','/home/ec2-user/SageMaker/stanford-ner.jar',encoding='utf8')\n",
    "text = extracted_sen\n",
    "for sent in nltk.sent_tokenize(text):\n",
    "    tokens = nltk.tokenize.word_tokenize(sent)\n",
    "    tags = st.tag(tokens)\n",
    "    for tag in tags:\n",
    "        if tag[1]=='PERSON': print(tag)    \n",
    "            "
   ]
  }
 ],
 "metadata": {
  "kernelspec": {
   "display_name": "conda_python3",
   "language": "python",
   "name": "conda_python3"
  },
  "language_info": {
   "codemirror_mode": {
    "name": "ipython",
    "version": 3
   },
   "file_extension": ".py",
   "mimetype": "text/x-python",
   "name": "python",
   "nbconvert_exporter": "python",
   "pygments_lexer": "ipython3",
   "version": "3.6.5"
  }
 },
 "nbformat": 4,
 "nbformat_minor": 2
}
